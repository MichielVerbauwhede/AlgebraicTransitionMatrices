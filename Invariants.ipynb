{
 "cells": [
  {
   "cell_type": "code",
   "execution_count": 1,
   "id": "41c83d2c",
   "metadata": {},
   "outputs": [],
   "source": [
    "from sage.crypto.sboxes import PRESENT\n",
    "from sage.crypto.sbox import SBox\n",
    "LowMC = SBox(0, 1, 3, 6, 7, 4, 5, 2)"
   ]
  },
  {
   "cell_type": "code",
   "execution_count": 13,
   "id": "75fbb1b0",
   "metadata": {},
   "outputs": [],
   "source": [
    "def sbox2transmat(s):\n",
    "    M = Matrix(GF(2), 2**s.output_size(), 2**s.input_size())\n",
    "    for x in range(2**s.input_size()):\n",
    "        M[s(x), x] = 1\n",
    "    return M\n",
    "\n",
    "R = PolynomialRing(GF(2), \"x\")\n",
    "\n",
    "def matrix_elementary_divisors(M):\n",
    "    res = []\n",
    "    for p in (R.gen() * M.matrix_space().identity_matrix() - M).elementary_divisors():\n",
    "        if p != 1:\n",
    "            for c in p.factor():\n",
    "                res.append(c)\n",
    "    return res\n",
    "\n",
    "def hypercompanion_matrix(p, m):\n",
    "    cs = p.coefficients(sparse=False)\n",
    "    l = len(cs) - 1\n",
    "    cm = Matrix(GF(2), l, l)\n",
    "    for i in range(1, l):\n",
    "        cm[i-1, i] = 1\n",
    "    for i in range(l):\n",
    "        cm[l-1, i] = -cs[i]\n",
    "    hcm = Matrix(GF(2), m*l, m*l)\n",
    "    for i in range(m):\n",
    "        hcm[i*l:(i+1)*l,i*l:(i+1)*l] = cm\n",
    "    for i in range(1,m):\n",
    "        hcm[i*l-1, i*l] = 1\n",
    "    return hcm\n",
    "\n",
    "def decomposed_form(M):\n",
    "    D = copy(M.matrix_space().zero_matrix())\n",
    "    i = 0\n",
    "    for p in matrix_elementary_divisors(M):\n",
    "        hcm = hypercompanion_matrix(*p)\n",
    "        s = hcm.nrows()\n",
    "        D[i:i+s, i:i+s] = hcm\n",
    "        i += s\n",
    "    return D, D.is_similar(M, transformation = True)[1]"
   ]
  },
  {
   "cell_type": "code",
   "execution_count": 14,
   "id": "93ad5070",
   "metadata": {},
   "outputs": [
    {
     "name": "stdout",
     "output_type": "stream",
     "text": [
      "[1] (x + 1, 1)\n",
      "[1] (x + 1, 1)\n",
      "[1 1]\n",
      "[0 1] (x + 1, 2)\n",
      "[0 1 0 0]\n",
      "[1 1 1 0]\n",
      "[0 0 0 1]\n",
      "[0 0 1 1] (x^2 + x + 1, 2)\n"
     ]
    },
    {
     "data": {
      "text/plain": [
       "True"
      ]
     },
     "execution_count": 14,
     "metadata": {},
     "output_type": "execute_result"
    }
   ],
   "source": [
    "MLowMC = sbox2transmat(LowMC)\n",
    "for p in matrix_elementary_divisors(MLowMC):\n",
    "    print(hypercompanion_matrix(*p), p)\n",
    "D, P = decomposed_form(MLowMC)\n",
    "MLowMC == P * D * P.inverse()"
   ]
  },
  {
   "cell_type": "code",
   "execution_count": 15,
   "id": "2124d1e3",
   "metadata": {},
   "outputs": [
    {
     "name": "stdout",
     "output_type": "stream",
     "text": [
      "[1] (x + 1, 1)\n",
      "[1] (x + 1, 1)\n",
      "[1 1]\n",
      "[0 1] (x + 1, 2)\n",
      "[1 1 0 0]\n",
      "[0 1 1 0]\n",
      "[0 0 1 1]\n",
      "[0 0 0 1] (x + 1, 4)\n",
      "[0 1]\n",
      "[1 1] (x^2 + x + 1, 1)\n",
      "[0 1 0]\n",
      "[0 0 1]\n",
      "[1 1 0] (x^3 + x + 1, 1)\n",
      "[0 1 0]\n",
      "[0 0 1]\n",
      "[1 0 1] (x^3 + x^2 + 1, 1)\n"
     ]
    },
    {
     "data": {
      "text/plain": [
       "True"
      ]
     },
     "execution_count": 15,
     "metadata": {},
     "output_type": "execute_result"
    }
   ],
   "source": [
    "MPRESENT = sbox2transmat(PRESENT)\n",
    "for p in matrix_elementary_divisors(MPRESENT):\n",
    "    print(hypercompanion_matrix(*p), p)\n",
    "D, P = decomposed_form(MPRESENT)\n",
    "MPRESENT == P * D * P.inverse()"
   ]
  },
  {
   "cell_type": "code",
   "execution_count": 19,
   "id": "fedc6835",
   "metadata": {},
   "outputs": [
    {
     "data": {
      "text/plain": [
       "[1 0 0 0 0 0 0 0 0 0 1 0 0 1 0 0]\n",
       "[1 0 0 0 0 0 0 0 0 0 0 0 1 0 0 1]\n",
       "[0 0 0 0 1 1 1 1 0 0 0 0 0 0 0 0]\n",
       "[0 1 0 0 0 0 0 0 1 0 0 0 0 0 0 0]\n",
       "[1 0 0 0 0 0 0 0 0 0 1 1 1 1 1 0]\n",
       "[1 0 0 0 0 0 0 0 0 0 0 1 0 0 1 0]\n",
       "[0 0 0 0 1 0 1 0 0 0 0 0 0 0 0 0]\n",
       "[0 0 1 1 0 0 0 0 0 0 0 0 0 0 0 0]\n",
       "[0 1 0 0 0 0 0 0 0 1 0 0 0 0 0 0]\n",
       "[1 0 0 0 0 0 0 0 0 0 0 1 1 1 1 1]\n",
       "[0 0 0 0 1 1 0 0 0 0 0 0 0 0 0 0]\n",
       "[0 1 0 0 0 0 0 0 1 1 0 0 0 0 0 0]\n",
       "[1 0 0 0 0 0 0 0 0 0 1 0 1 0 1 1]\n",
       "[0 0 1 0 0 0 0 0 0 0 0 0 0 0 0 0]\n",
       "[1 0 0 0 0 0 0 0 0 0 1 1 0 1 0 1]\n",
       "[0 0 0 0 1 0 0 0 0 0 0 0 0 0 0 0]"
      ]
     },
     "execution_count": 19,
     "metadata": {},
     "output_type": "execute_result"
    }
   ],
   "source": [
    "P"
   ]
  },
  {
   "cell_type": "code",
   "execution_count": 17,
   "id": "64a6d1fd",
   "metadata": {},
   "outputs": [
    {
     "data": {
      "text/plain": [
       "[1 0 0 0 0 0 0 0 0 0 0 0 0 0 0 0]\n",
       "[0 1 0 0 0 0 0 0 0 0 0 0 0 0 0 0]\n",
       "[0 0 1 1 0 0 0 0 0 0 0 0 0 0 0 0]\n",
       "[0 0 0 1 0 0 0 0 0 0 0 0 0 0 0 0]\n",
       "[0 0 0 0 1 1 0 0 0 0 0 0 0 0 0 0]\n",
       "[0 0 0 0 0 1 1 0 0 0 0 0 0 0 0 0]\n",
       "[0 0 0 0 0 0 1 1 0 0 0 0 0 0 0 0]\n",
       "[0 0 0 0 0 0 0 1 0 0 0 0 0 0 0 0]\n",
       "[0 0 0 0 0 0 0 0 0 1 0 0 0 0 0 0]\n",
       "[0 0 0 0 0 0 0 0 1 1 0 0 0 0 0 0]\n",
       "[0 0 0 0 0 0 0 0 0 0 0 1 0 0 0 0]\n",
       "[0 0 0 0 0 0 0 0 0 0 0 0 1 0 0 0]\n",
       "[0 0 0 0 0 0 0 0 0 0 1 1 0 0 0 0]\n",
       "[0 0 0 0 0 0 0 0 0 0 0 0 0 0 1 0]\n",
       "[0 0 0 0 0 0 0 0 0 0 0 0 0 0 0 1]\n",
       "[0 0 0 0 0 0 0 0 0 0 0 0 0 1 0 1]"
      ]
     },
     "execution_count": 17,
     "metadata": {},
     "output_type": "execute_result"
    }
   ],
   "source": [
    "D"
   ]
  }
 ],
 "metadata": {
  "kernelspec": {
   "display_name": "SageMath 9.7",
   "language": "sage",
   "name": "sagemath"
  },
  "language_info": {
   "codemirror_mode": {
    "name": "ipython",
    "version": 3
   },
   "file_extension": ".py",
   "mimetype": "text/x-python",
   "name": "python",
   "nbconvert_exporter": "python",
   "pygments_lexer": "ipython3",
   "version": "3.10.6"
  }
 },
 "nbformat": 4,
 "nbformat_minor": 5
}
