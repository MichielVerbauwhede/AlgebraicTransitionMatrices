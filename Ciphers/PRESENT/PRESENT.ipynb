{
 "cells": [
  {
   "cell_type": "code",
   "execution_count": 1,
   "id": "49f9bafd",
   "metadata": {},
   "outputs": [],
   "source": [
    "import sys\n",
    "sys.path.append(\"../../.\")\n",
    "\n",
    "NThreads = 36"
   ]
  },
  {
   "cell_type": "markdown",
   "id": "7b2d651f",
   "metadata": {},
   "source": [
    "## Construction"
   ]
  },
  {
   "cell_type": "code",
   "execution_count": 2,
   "id": "0ccb6c10",
   "metadata": {},
   "outputs": [],
   "source": [
    "from Construction.Function import Function\n",
    "from Construction.Components import SBox\n",
    "from Construction.CompoundFunction import CompoundFunction, INPUT_ID, OUTPUT_ID\n",
    "from Construction.IteratedCipher import construct_iterated_cipher"
   ]
  },
  {
   "cell_type": "code",
   "execution_count": 3,
   "id": "6ba6e05f",
   "metadata": {},
   "outputs": [],
   "source": [
    "# components\n",
    "PRESENT_sbox = SBox(4, 4, [0xC, 5, 6, 0xB, 9, 0, 0xA, 0xD, 3, 0xE, 0xF, 8, 4, 7, 1, 2])\n",
    "PRESENT_bitpermutation = [0, 16, 32, 48, 1, 17, 33, 49, 2, 18, 34, 50, 3, 19, 35, 51, 4, 20, 36, 52, 5, 21, 37, 53, 6, 22, 38, 54, 7, 23, 39, 55, 8, 24, 40, 56, 9, 25, 41, 57, 10, 26, 42, 58, 11, 27, 43, 59, 12, 28, 44, 60, 13, 29, 45, 61, 14, 30, 46, 62, 15, 31, 47, 63]"
   ]
  },
  {
   "cell_type": "code",
   "execution_count": 4,
   "id": "01ffe391",
   "metadata": {},
   "outputs": [],
   "source": [
    "# construct round function\n",
    "PRESENT_roundfunction = CompoundFunction(64, 64)\n",
    "ids = []\n",
    "# add sboxes\n",
    "for _ in range(16):\n",
    "    ids.append(PRESENT_roundfunction.add_component(PRESENT_sbox))\n",
    "# connect input to components\n",
    "for i in range(64):\n",
    "    PRESENT_roundfunction.connect_components(INPUT_ID, i, ids[i//4], i%4)\n",
    "# connect components to output\n",
    "for i in range(64):\n",
    "    PRESENT_roundfunction.connect_components(ids[i//4], i%4, OUTPUT_ID, PRESENT_bitpermutation[i])"
   ]
  },
  {
   "cell_type": "markdown",
   "id": "fa602c6c",
   "metadata": {},
   "source": [
    "## Analysis\n",
    "First we enumerate all properties for 9 round PRESENT.\n",
    "We'll try out different splits and merge their resulting bases in the end.\n",
    "Then we try to find properties for 10 round PRESENT."
   ]
  },
  {
   "cell_type": "code",
   "execution_count": 5,
   "id": "9740ab12",
   "metadata": {},
   "outputs": [],
   "source": [
    "import os.path\n",
    "import pickle\n",
    "from Modelling.Search import search_integral_properties\n",
    "from Tools.AvecImplementations import Avec_unified_model_with_partial_trail_counting_constant\n",
    "from functools import reduce, partial\n",
    "from pysat.formula import IDPool\n",
    "from multiprocessing import Manager\n",
    "from time import time"
   ]
  },
  {
   "cell_type": "code",
   "execution_count": null,
   "id": "8d700bf8",
   "metadata": {
    "scrolled": true
   },
   "outputs": [
    {
     "name": "stdout",
     "output_type": "stream",
     "text": [
      "(1, 7, 1)\n",
      "time: 8269.621418476105\n",
      "oracle_calls: 2666126\n",
      "dimension: 455\n",
      "\n",
      "(1, 6, 2)\n",
      "time: 13762.805321455002\n",
      "oracle_calls: 19156473\n",
      "dimension: 420\n",
      "\n",
      "(1, 5, 3)\n",
      "time: 2714.4336524009705\n",
      "oracle_calls: 118593055\n",
      "dimension: 338\n",
      "\n",
      "(2, 6, 1)\n",
      "time: 11397.889473438263\n",
      "oracle_calls: 22921454\n",
      "dimension: 425\n",
      "\n",
      "(2, 5, 2)\n",
      "time: 22672.75123310089\n",
      "oracle_calls: 705298640\n",
      "dimension: 401\n",
      "\n",
      "(2, 4, 3)\n",
      "time: 17749.31081867218\n",
      "oracle_calls: 141070388201\n",
      "dimension: 331\n",
      "\n",
      "(3, 5, 1)\n",
      "time: 3131.4764246940613\n",
      "oracle_calls: 159686272\n",
      "dimension: 338\n",
      "\n",
      "(3, 4, 2)\n",
      "time: 23786.157261371613\n",
      "oracle_calls: 220841578547\n",
      "dimension: 331\n",
      "\n"
     ]
    }
   ],
   "source": [
    "# 9 rounds\n",
    "splits = [(1, 7, 1), (1, 6, 2), (1, 5, 3), (2, 6, 1), (2, 5, 2), (2, 4, 3), (3, 5, 1), (3, 4, 2), (3, 3, 3)]\n",
    "limit = 2**10\n",
    "for split in splits:\n",
    "    f1 = construct_iterated_cipher([PRESENT_roundfunction]*split[0], [2**64-1]*split[0] + [0])\n",
    "    f2 = construct_iterated_cipher([PRESENT_roundfunction]*split[1], [2**64-1]*(split[1]+1))\n",
    "    f3 = construct_iterated_cipher([PRESENT_roundfunction]*split[2], [0] + [2**64-1]*split[2])\n",
    "\n",
    "    pool = IDPool()\n",
    "    model, input_vars, intermediate_vars1, _ = f1.optimized_for_nonzero_trail_detection().to_model(pool)\n",
    "    modelx, _, intermediate_vars2, _ = f2.optimized_for_nonzero_trail_detection().to_model(pool, input_vars=intermediate_vars1)\n",
    "    model += modelx\n",
    "    modelx, _, output_vars, _ = f3.optimized_for_nonzero_trail_detection().to_model(pool, input_vars=intermediate_vars2)\n",
    "    model += modelx\n",
    "    \n",
    "    f1_model, f1_input_vars, f1_output_vars, f1_key_vars = f1.to_model()\n",
    "    f2_model, f2_input_vars, f2_output_vars, f2_key_vars = f2.to_model()\n",
    "    f3_model, f3_input_vars, f3_output_vars, f3_key_vars = f3.to_model()\n",
    "\n",
    "    cachek1, cachek2, cachek3, cachec1, cachec2, cachec3, oracle_call_counts = Manager().dict(), Manager().dict(), Manager().dict(), Manager().dict(), Manager().dict(), Manager().dict(), Manager().list()\n",
    "\n",
    "    Avec = partial(Avec_unified_model_with_partial_trail_counting_constant, cachek1, cachek2, cachek3, cachec1, cachec2, cachec3, oracle_call_counts, model, input_vars, intermediate_vars1, intermediate_vars2, output_vars, f1_model, f1_input_vars, f1_output_vars, f1_key_vars, f2_model, f2_input_vars, f2_output_vars, f2_key_vars, f3_model, f3_input_vars, f3_output_vars, f3_key_vars, limit=limit)\n",
    "\n",
    "    fname = f\"Results/R9-complex-oracle-{split[0]}-{split[1]}-{split[2]}.pkl\"\n",
    "    fname_stats = f\"Results/R9-complex-oracle-{split[0]}-{split[1]}-{split[2]}-stats.txt\"\n",
    "    if os.path.isfile(fname):\n",
    "        with open(fname, \"rb\") as f:\n",
    "            res = pickle.load(f)\n",
    "        with open(fname_stats, \"r\") as f:\n",
    "            l = list(f.read().split(\" \")[:2])\n",
    "            total_time, oracle_call_count = float(l[0]), int(l[1])\n",
    "    else:\n",
    "        stime = time()\n",
    "        res = search_integral_properties(Avec, 64, 64, True, NThreads)\n",
    "        total_time = time() - stime\n",
    "        oracle_call_count = sum(oracle_call_counts)\n",
    "        with open(fname, \"wb\") as f:\n",
    "            pickle.dump(res, f)\n",
    "        with open(fname_stats, \"w\") as f:\n",
    "            f.write(f\"{total_time} {oracle_call_count}\")\n",
    "    print(split)\n",
    "    print(\"time:\", total_time)\n",
    "    print(\"oracle_calls:\", oracle_call_count)\n",
    "    print(\"dimension:\", len(res))\n",
    "    print()"
   ]
  },
  {
   "cell_type": "code",
   "execution_count": null,
   "id": "a231443d",
   "metadata": {
    "scrolled": true
   },
   "outputs": [],
   "source": [
    "splits = [(1, 8, 1), (1, 7, 2), (1, 6, 3), (2, 7, 1), (2, 6, 2), (2, 5, 3), (3, 6, 1), (3, 5, 2), (3, 4, 3)]\n",
    "limit = 2**10\n",
    "for split in splits:\n",
    "    f1 = construct_iterated_cipher([PRESENT_roundfunction]*split[0], [2**64-1]*split[0] + [0])\n",
    "    f2 = construct_iterated_cipher([PRESENT_roundfunction]*split[1], [2**64-1]*(split[1]+1))\n",
    "    f3 = construct_iterated_cipher([PRESENT_roundfunction]*split[2], [0] + [2**64-1]*split[2])\n",
    "\n",
    "    pool = IDPool()\n",
    "    model, input_vars, intermediate_vars1, _ = f1.optimized_for_nonzero_trail_detection().to_model(pool)\n",
    "    modelx, _, intermediate_vars2, _ = f2.optimized_for_nonzero_trail_detection().to_model(pool, input_vars=intermediate_vars1)\n",
    "    model += modelx\n",
    "    modelx, _, output_vars, _ = f3.optimized_for_nonzero_trail_detection().to_model(pool, input_vars=intermediate_vars2)\n",
    "    model += modelx\n",
    "    \n",
    "    f1_model, f1_input_vars, f1_output_vars, f1_key_vars = f1.to_model()\n",
    "    f2_model, f2_input_vars, f2_output_vars, f2_key_vars = f2.to_model()\n",
    "    f3_model, f3_input_vars, f3_output_vars, f3_key_vars = f3.to_model()\n",
    "\n",
    "    cachek1, cachek2, cachek3, cachec1, cachec2, cachec3, oracle_call_counts = Manager().dict(), Manager().dict(), Manager().dict(), Manager().dict(), Manager().dict(), Manager().dict(), Manager().list()\n",
    "\n",
    "    Avec = partial(Avec_unified_model_with_partial_trail_counting_constant, cachek1, cachek2, cachek3, cachec1, cachec2, cachec3, oracle_call_counts, model, input_vars, intermediate_vars1, intermediate_vars2, output_vars, f1_model, f1_input_vars, f1_output_vars, f1_key_vars, f2_model, f2_input_vars, f2_output_vars, f2_key_vars, f3_model, f3_input_vars, f3_output_vars, f3_key_vars, limit=limit)\n",
    "\n",
    "    fname = f\"Results/R10-complex-oracle-{split[0]}-{split[1]}-{split[2]}.pkl\"\n",
    "    fname_stats = f\"Results/R10-complex-oracle-{split[0]}-{split[1]}-{split[2]}-stats.txt\"\n",
    "    if os.path.isfile(fname):\n",
    "        with open(fname, \"rb\") as f:\n",
    "            res = pickle.load(f)\n",
    "        with open(fname_stats, \"r\") as f:\n",
    "            l = list(f.read().split(\" \")[:2])\n",
    "            total_time, oracle_call_count = float(l[0]), int(l[1])\n",
    "    else:\n",
    "        stime = time()\n",
    "        res = search_integral_properties(Avec, 64, 64, True, NThreads)\n",
    "        total_time = time() - stime\n",
    "        oracle_call_count = sum(oracle_call_counts)\n",
    "        with open(fname, \"wb\") as f:\n",
    "            pickle.dump(res, f)\n",
    "        with open(fname_stats, \"w\") as f:\n",
    "            f.write(f\"{total_time} {oracle_call_count}\")\n",
    "    print(split)\n",
    "    print(\"time:\", total_time)\n",
    "    print(\"oracle_calls:\", oracle_call_count)\n",
    "    print(\"dimension:\", len(res))\n",
    "    print()"
   ]
  },
  {
   "cell_type": "code",
   "execution_count": null,
   "id": "7b68086b-5a82-41c1-ab31-7375db72ff29",
   "metadata": {},
   "outputs": [],
   "source": []
  }
 ],
 "metadata": {
  "kernelspec": {
   "display_name": "Python 3 (ipykernel)",
   "language": "python",
   "name": "python3"
  },
  "language_info": {
   "codemirror_mode": {
    "name": "ipython",
    "version": 3
   },
   "file_extension": ".py",
   "mimetype": "text/x-python",
   "name": "python",
   "nbconvert_exporter": "python",
   "pygments_lexer": "ipython3",
   "version": "3.10.8"
  },
  "vscode": {
   "interpreter": {
    "hash": "92cdbb247fb633f416df7f6903502d9d5a8ee1cc0265e51228853e10648f8b69"
   }
  }
 },
 "nbformat": 4,
 "nbformat_minor": 5
}
